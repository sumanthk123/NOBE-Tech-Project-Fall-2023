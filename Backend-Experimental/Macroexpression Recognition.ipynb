{
 "cells": [
  {
   "cell_type": "code",
   "execution_count": 30,
   "id": "baf104d6",
   "metadata": {
    "ExecuteTime": {
     "end_time": "2023-10-19T23:22:10.461060Z",
     "start_time": "2023-10-19T23:22:10.455310Z"
    }
   },
   "outputs": [],
   "source": [
    "# Params\n",
    "BATCH_SIZE = 256\n",
    "EPOCHS = 100\n",
    "LEARNING_RATE = 1.0\n",
    "OPTIM_GAMMA = 0.7\n",
    "# Define NN\n",
    "import torch\n",
    "import torch.nn as nn\n",
    "import torch.nn.functional as f\n",
    "\n",
    "\n",
    "\n",
    "class Net(nn.Module):\n",
    "    def __init__(self):\n",
    "        super(Net, self).__init__()\n",
    "        self.conv1 = nn.Conv2d(1, 32, 4, 1)\n",
    "        self.conv2 = nn.Conv2d(32, 64, 4, 1)\n",
    "        self.dropout1 = nn.Dropout(0.25)\n",
    "        self.dropout2 = nn.Dropout(0.5)\n",
    "        self.fc1 = nn.Linear(28224, 128)\n",
    "        self.fc2 = nn.Linear(128, 10)\n",
    "\n",
    "    def forward(self, x):\n",
    "        x = self.conv1(x)\n",
    "        x = f.relu(x)\n",
    "        x = self.conv2(x)\n",
    "        x = f.relu(x)\n",
    "        x = f.max_pool2d(x, 2)\n",
    "        x = self.dropout1(x)\n",
    "        x = torch.flatten(x, 1)\n",
    "        x = self.fc1(x)\n",
    "        x = f.relu(x)\n",
    "        x = self.dropout2(x)\n",
    "        x = self.fc2(x)\n",
    "        out = f.log_softmax(x, dim=1)\n",
    "        return out\n",
    "\n"
   ]
  },
  {
   "cell_type": "code",
   "execution_count": 31,
   "id": "7031b2df",
   "metadata": {
    "ExecuteTime": {
     "end_time": "2023-10-19T23:22:10.532588Z",
     "start_time": "2023-10-19T23:22:10.462042Z"
    }
   },
   "outputs": [],
   "source": [
    "# Load the Data\n",
    "from torch.utils.data import Dataset, DataLoader\n",
    "from torchvision import datasets, transforms\n",
    "\n",
    "train_dataset = datasets.ImageFolder(root = 'train', transform=transforms.Compose([transforms.Grayscale(num_output_channels=1), \n",
    "                                                         transforms.ToTensor()]))\n",
    "test_dataset = datasets.ImageFolder(root = 'validation', transform=transforms.Compose([transforms.Grayscale(num_output_channels=1), \n",
    "                                                         transforms.ToTensor()]))\n",
    "\n",
    "train_loader = DataLoader(train_dataset, batch_size=BATCH_SIZE, shuffle=True)\n",
    "test_loader = DataLoader(test_dataset, batch_size=BATCH_SIZE, shuffle=False)\n",
    "\n"
   ]
  },
  {
   "cell_type": "code",
   "execution_count": 32,
   "id": "e0425eca",
   "metadata": {
    "ExecuteTime": {
     "end_time": "2023-10-19T23:22:10.626326Z",
     "start_time": "2023-10-19T23:22:10.533155Z"
    }
   },
   "outputs": [
    {
     "name": "stdout",
     "output_type": "stream",
     "text": [
      "Feature batch shape: torch.Size([256, 1, 48, 48])\n",
      "Labels batch shape: torch.Size([256])\n"
     ]
    },
    {
     "data": {
      "text/plain": "<Figure size 640x480 with 1 Axes>",
      "image/png": "[encoded data removed]"
     },
     "metadata": {},
     "output_type": "display_data"
    },
    {
     "name": "stdout",
     "output_type": "stream",
     "text": [
      "Label: 6\n"
     ]
    }
   ],
   "source": [
    "# Display image and label.\n",
    "import matplotlib.pyplot as plt\n",
    "\n",
    "train_features, train_labels = next(iter(train_loader))\n",
    "print(f\"Feature batch shape: {train_features.size()}\")\n",
    "print(f\"Labels batch shape: {train_labels.size()}\")\n",
    "img = train_features[0].squeeze()\n",
    "label = train_labels[0]\n",
    "plt.imshow(img, cmap=\"gray\")\n",
    "plt.show()\n",
    "print(f\"Label: {label}\")"
   ]
  },
  {
   "cell_type": "code",
   "execution_count": 33,
   "id": "27ac9c3c",
   "metadata": {
    "ExecuteTime": {
     "end_time": "2023-10-19T23:22:10.638328Z",
     "start_time": "2023-10-19T23:22:10.625215Z"
    }
   },
   "outputs": [],
   "source": [
    "# Initialize Model\n",
    "device = torch.device('cuda' if torch.cuda.is_available() else 'cpu')\n",
    "model = Net().to(device)"
   ]
  },
  {
   "cell_type": "code",
   "execution_count": 34,
   "outputs": [
    {
     "name": "stdout",
     "output_type": "stream",
     "text": [
      "Output = tensor([[-2.3675, -2.3168, -2.2847,  ..., -2.3451, -2.2340, -2.3584],\n",
      "        [-2.3847, -2.3078, -2.3148,  ..., -2.4064, -2.2762, -2.3363],\n",
      "        [-2.3749, -2.1550, -2.3996,  ..., -2.3504, -2.2392, -2.3609],\n",
      "        ...,\n",
      "        [-2.3788, -2.2507, -2.3188,  ..., -2.3748, -2.2530, -2.3426],\n",
      "        [-2.4576, -2.2304, -2.2879,  ..., -2.4111, -2.1838, -2.4199],\n",
      "        [-2.4214, -2.2347, -2.2753,  ..., -2.3693, -2.3317, -2.2956]],\n",
      "       grad_fn=<LogSoftmaxBackward0>)\n",
      "Expected = tensor([5, 3, 4, 4, 0, 3, 3, 2, 4, 6, 4, 3, 4, 6, 6, 0, 0, 3, 5, 0, 6, 5, 3, 0,\n",
      "        0, 3, 2, 0, 4, 4, 2, 3, 3, 2, 2, 0, 2, 0, 3, 4, 1, 0, 3, 4, 3, 5, 3, 6,\n",
      "        5, 0, 6, 0, 1, 0, 3, 4, 5, 3, 3, 5, 5, 3, 0, 5, 5, 4, 4, 2, 4, 2, 5, 4,\n",
      "        3, 4, 6, 4, 5, 0, 3, 1, 2, 2, 4, 0, 0, 3, 2, 2, 0, 1, 5, 3, 2, 2, 6, 3,\n",
      "        3, 3, 0, 3, 5, 5, 2, 3, 4, 0, 4, 0, 6, 5, 3, 2, 5, 3, 4, 4, 3, 4, 5, 0,\n",
      "        5, 3, 3, 5, 3, 4, 2, 4, 2, 0, 2, 4, 4, 4, 3, 6, 6, 6, 0, 6, 6, 6, 4, 5,\n",
      "        3, 3, 2, 4, 5, 0, 0, 4, 0, 3, 4, 5, 5, 4, 4, 4, 5, 3, 3, 3, 5, 3, 2, 2,\n",
      "        0, 4, 4, 0, 3, 0, 5, 3, 6, 5, 4, 6, 2, 3, 0, 4, 3, 3, 6, 5, 4, 3, 3, 6,\n",
      "        3, 5, 5, 5, 0, 4, 6, 4, 6, 5, 3, 3, 2, 4, 5, 2, 4, 6, 0, 5, 0, 6, 4, 6,\n",
      "        2, 4, 0, 0, 4, 5, 3, 2, 3, 5, 5, 5, 6, 6, 3, 5, 5, 5, 3, 5, 2, 5, 0, 0,\n",
      "        2, 3, 6, 2, 0, 3, 2, 4, 3, 5, 1, 2, 1, 0, 5, 3])\n"
     ]
    }
   ],
   "source": [
    "# Test Feeding Model\n",
    "train_features, train_labels = next(iter(train_loader))\n",
    "train_features.to(device)\n",
    "output = model(train_features)\n",
    "print(f\"Output = {output}\")\n",
    "print(f\"Expected = {train_labels}\")"
   ],
   "metadata": {
    "collapsed": false,
    "ExecuteTime": {
     "end_time": "2023-10-19T23:22:11.035516Z",
     "start_time": "2023-10-19T23:22:10.641274Z"
    }
   },
   "id": "9fd17114cb5ed750"
  },
  {
   "cell_type": "code",
   "execution_count": 35,
   "outputs": [
    {
     "name": "stdout",
     "output_type": "stream",
     "text": [
      "\n",
      "Test set: Average loss: 1.7843, Accuracy: 1858/7066 (26%)\n"
     ]
    },
    {
     "ename": "KeyboardInterrupt",
     "evalue": "",
     "output_type": "error",
     "traceback": [
      "\u001B[0;31m---------------------------------------------------------------------------\u001B[0m",
      "\u001B[0;31mKeyboardInterrupt\u001B[0m                         Traceback (most recent call last)",
      "Cell \u001B[0;32mIn[35], line 37\u001B[0m\n\u001B[1;32m     34\u001B[0m scheduler \u001B[38;5;241m=\u001B[39m StepLR(optimizer, step_size\u001B[38;5;241m=\u001B[39m\u001B[38;5;241m1\u001B[39m, gamma\u001B[38;5;241m=\u001B[39mOPTIM_GAMMA)\n\u001B[1;32m     36\u001B[0m \u001B[38;5;28;01mfor\u001B[39;00m i \u001B[38;5;129;01min\u001B[39;00m \u001B[38;5;28mrange\u001B[39m(\u001B[38;5;241m1\u001B[39m, EPOCHS \u001B[38;5;241m+\u001B[39m \u001B[38;5;241m1\u001B[39m):\n\u001B[0;32m---> 37\u001B[0m     train(model, train_loader, optimizer, device)\n\u001B[1;32m     38\u001B[0m     test(model, test_loader, device)\n\u001B[1;32m     39\u001B[0m     scheduler\u001B[38;5;241m.\u001B[39mstep()\n",
      "Cell \u001B[0;32mIn[35], line 12\u001B[0m, in \u001B[0;36mtrain\u001B[0;34m(model, train_loader, optimizer, device)\u001B[0m\n\u001B[1;32m     10\u001B[0m output \u001B[38;5;241m=\u001B[39m model(data)\n\u001B[1;32m     11\u001B[0m loss \u001B[38;5;241m=\u001B[39m f\u001B[38;5;241m.\u001B[39mnll_loss(output, target)\n\u001B[0;32m---> 12\u001B[0m loss\u001B[38;5;241m.\u001B[39mbackward()\n\u001B[1;32m     13\u001B[0m optimizer\u001B[38;5;241m.\u001B[39mstep()\n",
      "File \u001B[0;32m~/anaconda3/lib/python3.11/site-packages/torch/_tensor.py:487\u001B[0m, in \u001B[0;36mTensor.backward\u001B[0;34m(self, gradient, retain_graph, create_graph, inputs)\u001B[0m\n\u001B[1;32m    477\u001B[0m \u001B[38;5;28;01mif\u001B[39;00m has_torch_function_unary(\u001B[38;5;28mself\u001B[39m):\n\u001B[1;32m    478\u001B[0m     \u001B[38;5;28;01mreturn\u001B[39;00m handle_torch_function(\n\u001B[1;32m    479\u001B[0m         Tensor\u001B[38;5;241m.\u001B[39mbackward,\n\u001B[1;32m    480\u001B[0m         (\u001B[38;5;28mself\u001B[39m,),\n\u001B[0;32m   (...)\u001B[0m\n\u001B[1;32m    485\u001B[0m         inputs\u001B[38;5;241m=\u001B[39minputs,\n\u001B[1;32m    486\u001B[0m     )\n\u001B[0;32m--> 487\u001B[0m torch\u001B[38;5;241m.\u001B[39mautograd\u001B[38;5;241m.\u001B[39mbackward(\n\u001B[1;32m    488\u001B[0m     \u001B[38;5;28mself\u001B[39m, gradient, retain_graph, create_graph, inputs\u001B[38;5;241m=\u001B[39minputs\n\u001B[1;32m    489\u001B[0m )\n",
      "File \u001B[0;32m~/anaconda3/lib/python3.11/site-packages/torch/autograd/__init__.py:200\u001B[0m, in \u001B[0;36mbackward\u001B[0;34m(tensors, grad_tensors, retain_graph, create_graph, grad_variables, inputs)\u001B[0m\n\u001B[1;32m    195\u001B[0m     retain_graph \u001B[38;5;241m=\u001B[39m create_graph\n\u001B[1;32m    197\u001B[0m \u001B[38;5;66;03m# The reason we repeat same the comment below is that\u001B[39;00m\n\u001B[1;32m    198\u001B[0m \u001B[38;5;66;03m# some Python versions print out the first line of a multi-line function\u001B[39;00m\n\u001B[1;32m    199\u001B[0m \u001B[38;5;66;03m# calls in the traceback and some print out the last line\u001B[39;00m\n\u001B[0;32m--> 200\u001B[0m Variable\u001B[38;5;241m.\u001B[39m_execution_engine\u001B[38;5;241m.\u001B[39mrun_backward(  \u001B[38;5;66;03m# Calls into the C++ engine to run the backward pass\u001B[39;00m\n\u001B[1;32m    201\u001B[0m     tensors, grad_tensors_, retain_graph, create_graph, inputs,\n\u001B[1;32m    202\u001B[0m     allow_unreachable\u001B[38;5;241m=\u001B[39m\u001B[38;5;28;01mTrue\u001B[39;00m, accumulate_grad\u001B[38;5;241m=\u001B[39m\u001B[38;5;28;01mTrue\u001B[39;00m)\n",
      "\u001B[0;31mKeyboardInterrupt\u001B[0m: "
     ]
    }
   ],
   "source": [
    "# Train Model\n",
    "import torch.optim as optim\n",
    "from torch.optim.lr_scheduler import StepLR\n",
    "\n",
    "def train(model, train_loader, optimizer, device):\n",
    "    model.train()\n",
    "    for batch_idx, (data, target) in enumerate(train_loader):\n",
    "        data, target = data.to(device), target.to(device)\n",
    "        optimizer.zero_grad()\n",
    "        output = model(data)\n",
    "        loss = f.nll_loss(output, target)\n",
    "        loss.backward()\n",
    "        optimizer.step()\n",
    "\n",
    "def test(model, test_loader, device):\n",
    "    model.eval()\n",
    "    test_loss = 0\n",
    "    correct = 0\n",
    "    with torch.no_grad():\n",
    "        for data, target in test_loader:\n",
    "            data, target = data.to(device), target.to(device)\n",
    "            output = model(data)\n",
    "            test_loss += f.nll_loss(output, target, reduction='sum').item()  # sum up batch loss\n",
    "            pred = output.argmax(dim=1, keepdim=True)  # get the index of the max log-probability\n",
    "            correct += pred.eq(target.view_as(pred)).sum().item()\n",
    "            \n",
    "    test_loss /= len(test_loader.dataset)\n",
    "\n",
    "    print('\\nTest set: Average loss: {:.4f}, Accuracy: {}/{} ({:.0f}%)\\n'.format(\n",
    "        test_loss, correct, len(test_loader.dataset),\n",
    "        100. * correct / len(test_loader.dataset)))\n",
    "\n",
    "optimizer = optim.Adadelta(model.parameters(), lr=LEARNING_RATE)\n",
    "scheduler = StepLR(optimizer, step_size=1, gamma=OPTIM_GAMMA)\n",
    "\n",
    "for i in range(1, EPOCHS + 1):\n",
    "    train(model, train_loader, optimizer, device)\n",
    "    test(model, test_loader, device)\n",
    "    scheduler.step()\n",
    "\n",
    "\n"
   ],
   "metadata": {
    "collapsed": false,
    "ExecuteTime": {
     "end_time": "2023-10-19T23:24:11.723294Z",
     "start_time": "2023-10-19T23:22:11.036162Z"
    }
   },
   "id": "56af581b4c74c5b0"
  }
 ],
 "metadata": {
  "kernelspec": {
   "display_name": "Python 3 (ipykernel)",
   "language": "python",
   "name": "python3"
  },
  "language_info": {
   "codemirror_mode": {
    "name": "ipython",
    "version": 3
   },
   "file_extension": ".py",
   "mimetype": "text/x-python",
   "name": "python",
   "nbconvert_exporter": "python",
   "pygments_lexer": "ipython3",
   "version": "3.11.4"
  }
 },
 "nbformat": 4,
 "nbformat_minor": 5
}
