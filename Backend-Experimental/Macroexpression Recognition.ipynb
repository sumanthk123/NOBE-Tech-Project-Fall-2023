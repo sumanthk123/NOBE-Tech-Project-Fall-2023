{
 "cells": [
  {
   "cell_type": "markdown",
   "source": [
    "# Params\n",
    "BATCH_SIZE = 256\n",
    "EPOCHS = 10\n",
    "LEARNING_RATE = 1.0\n",
    "OPTIM_GAMMA = 0.7\n",
    "# Define NN\n",
    "import torch\n",
    "import torch.nn as nn\n",
    "import torch.nn.functional as f\n",
    "\n",
    "\n",
    "\n",
    "class Net(nn.Module):\n",
    "    def __init__(self):\n",
    "        super(Net, self).__init__()\n",
    "        self.conv1 = nn.Conv2d(1, 32, 4, 1)\n",
    "        self.conv2 = nn.Conv2d(32, 64, 4, 1)\n",
    "        self.dropout1 = nn.Dropout(0.25)\n",
    "        self.dropout2 = nn.Dropout(0.5)\n",
    "        self.fc1 = nn.Linear(28224, 128)\n",
    "        self.fc2 = nn.Linear(128, 10)\n",
    "\n",
    "    def forward(self, x):\n",
    "        x = self.conv1(x)\n",
    "        x = f.relu(x)\n",
    "        x = self.conv2(x)\n",
    "        x = f.relu(x)\n",
    "        x = f.max_pool2d(x, 2)\n",
    "        x = self.dropout1(x)\n",
    "        x = torch.flatten(x, 1)\n",
    "        x = self.fc1(x)\n",
    "        x = f.relu(x)\n",
    "        x = self.dropout2(x)\n",
    "        x = self.fc2(x)\n",
    "        out = f.log_softmax(x, dim=1)\n",
    "        return out\n",
    "\n"
   ],
   "metadata": {
    "collapsed": false
   },
   "id": "aa3904c5ab0cee43"
  },
  {
   "cell_type": "code",
   "execution_count": 11,
   "id": "7031b2df",
   "metadata": {
    "ExecuteTime": {
     "end_time": "2023-10-20T07:47:09.194828600Z",
     "start_time": "2023-10-20T07:47:08.986735700Z"
    }
   },
   "outputs": [],
   "source": [
    "# Load the Data\n",
    "from torch.utils.data import Dataset, DataLoader\n",
    "from torchvision import datasets, transforms\n",
    "\n",
    "train_dataset = datasets.ImageFolder(root = 'train', transform=transforms.Compose([transforms.Grayscale(num_output_channels=1), \n",
    "                                                         transforms.ToTensor()]))\n",
    "test_dataset = datasets.ImageFolder(root = 'validation', transform=transforms.Compose([transforms.Grayscale(num_output_channels=1), \n",
    "                                                         transforms.ToTensor()]))\n",
    "\n",
    "train_loader = DataLoader(train_dataset, batch_size=BATCH_SIZE, shuffle=True)\n",
    "test_loader = DataLoader(test_dataset, batch_size=BATCH_SIZE, shuffle=False)\n",
    "\n"
   ]
  },
  {
   "cell_type": "code",
   "execution_count": null,
   "id": "e0425eca",
   "metadata": {},
   "outputs": [],
   "source": [
    "# Display image and label.\n",
    "import matplotlib.pyplot as plt\n",
    "\n",
    "train_features, train_labels = next(iter(train_loader))\n",
    "print(f\"Feature batch shape: {train_features.size()}\")\n",
    "print(f\"Labels batch shape: {train_labels.size()}\")\n",
    "img = train_features[0].squeeze()\n",
    "label = train_labels[0]\n",
    "plt.imshow(img, cmap=\"gray\")\n",
    "plt.show()\n",
    "print(f\"Label: {label}\")"
   ]
  },
  {
   "cell_type": "code",
   "execution_count": 13,
   "id": "27ac9c3c",
   "metadata": {
    "ExecuteTime": {
     "end_time": "2023-10-20T07:47:09.728948700Z",
     "start_time": "2023-10-20T07:47:09.640928800Z"
    }
   },
   "outputs": [],
   "source": [
    "# Initialize Model\n",
    "device = torch.device('cuda' if torch.cuda.is_available() else 'cpu')\n",
    "model = Net().to(device)"
   ]
  },
  {
   "cell_type": "code",
   "execution_count": null,
   "outputs": [],
   "source": [
    "# Test Feeding Model\n",
    "train_features, train_labels = next(iter(train_loader))\n",
    "train_features.to(device)\n",
    "output = model(train_features)\n",
    "print(f\"Output = {output}\")\n",
    "print(f\"Expected = {train_labels}\")"
   ],
   "metadata": {
    "collapsed": false
   },
   "id": "9fd17114cb5ed750"
  },
  {
   "cell_type": "code",
   "execution_count": null,
   "outputs": [],
   "source": [
    "# Train Model\n",
    "import torch.optim as optim\n",
    "from torch.optim.lr_scheduler import StepLR\n",
    "\n",
    "def train(model, train_loader, optimizer, device):\n",
    "    model.train()\n",
    "    for batch_idx, (data, target) in enumerate(train_loader):\n",
    "        data, target = data.to(device), target.to(device)\n",
    "        optimizer.zero_grad()\n",
    "        output = model(data)\n",
    "        loss = f.nll_loss(output, target)\n",
    "        loss.backward()\n",
    "        optimizer.step()\n",
    "\n",
    "def test(model, test_loader, device):\n",
    "    model.eval()\n",
    "    test_loss = 0\n",
    "    correct = 0\n",
    "    with torch.no_grad():\n",
    "        for data, target in test_loader:\n",
    "            data, target = data.to(device), target.to(device)\n",
    "            output = model(data)\n",
    "            test_loss += f.nll_loss(output, target, reduction='sum').item()  # sum up batch loss\n",
    "            pred = output.argmax(dim=1, keepdim=True)  # get the index of the max log-probability\n",
    "            correct += pred.eq(target.view_as(pred)).sum().item()\n",
    "            \n",
    "    test_loss /= len(test_loader.dataset)\n",
    "\n",
    "    print('\\nTest set: Average loss: {:.4f}, Accuracy: {}/{} ({:.0f}%)\\n'.format(\n",
    "        test_loss, correct, len(test_loader.dataset),\n",
    "        100. * correct / len(test_loader.dataset)))\n",
    "\n",
    "optimizer = optim.Adadelta(model.parameters(), lr=LEARNING_RATE)\n",
    "scheduler = StepLR(optimizer, step_size=1, gamma=OPTIM_GAMMA)\n",
    "\n",
    "print(f'Training on: {device}')\n",
    "\n",
    "print(torch.cuda.is_available())\n",
    "\n",
    "print(torch.cuda.device_count())\n",
    "\n",
    "for i in range(1, EPOCHS + 1):\n",
    "    train(model, train_loader, optimizer, device)\n",
    "    test(model, test_loader, device)\n",
    "    scheduler.step()\n",
    "\n",
    "\n"
   ],
   "metadata": {
    "collapsed": false
   },
   "id": "56af581b4c74c5b0"
  }
 ],
 "metadata": {
  "kernelspec": {
   "display_name": "Python 3 (ipykernel)",
   "language": "python",
   "name": "python3"
  },
  "language_info": {
   "codemirror_mode": {
    "name": "ipython",
    "version": 3
   },
   "file_extension": ".py",
   "mimetype": "text/x-python",
   "name": "python",
   "nbconvert_exporter": "python",
   "pygments_lexer": "ipython3",
   "version": "3.11.4"
  }
 },
 "nbformat": 4,
 "nbformat_minor": 5
}
